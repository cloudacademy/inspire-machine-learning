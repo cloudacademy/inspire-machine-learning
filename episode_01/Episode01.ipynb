{
  "nbformat": 4,
  "nbformat_minor": 0,
  "metadata": {
    "colab": {
      "name": "Episode01.ipynb",
      "provenance": []
    },
    "kernelspec": {
      "name": "python3",
      "display_name": "Python 3"
    },
    "language_info": {
      "name": "python"
    }
  },
  "cells": [
    {
      "cell_type": "markdown",
      "source": [
        "# Introduction to Machine Learning Pipelines"
      ],
      "metadata": {
        "id": "vKb4zmI9jRzM"
      }
    },
    {
      "cell_type": "markdown",
      "source": [
        "We are going to use a sample of the well known dataset called Credit Card Fraud Detection.\n",
        "\n",
        "The dataset contains transactions made by credit cards in September 2013 by European cardholders.\n",
        "The original dataset is available [here](https://www.kaggle.com/datasets/mlg-ulb/creditcardfraud). The dataset is highly unbalanced, the positive class (frauds) account for 0.172% of all transactions.\n",
        "\n",
        "It contains only numerical input variables which are the result of a PCA transformation. Unfortunately, due to confidentiality issues, we cannot provide the original features and more background information about the data. Features V1, V2, … V28 are the principal components obtained with PCA, the only features which have not been transformed with PCA are 'Time' and 'Amount'. Feature 'Time' contains the seconds elapsed between each transaction and the first transaction in the dataset. The feature 'Amount' is the transaction Amount, this feature can be used for example-dependant cost-sensitive learning. Feature 'Class' is the response variable and it takes value 1 in case of fraud and 0 otherwise.\n"
      ],
      "metadata": {
        "id": "gtdMzB8ojqAb"
      }
    },
    {
      "cell_type": "code",
      "source": [
        "import pandas as pd\n",
        "import numpy as np\n",
        "df = pd.read_csv('data/creditcard_sampledata.csv') "
      ],
      "metadata": {
        "id": "nmU-jUs9fjeh"
      },
      "execution_count": null,
      "outputs": []
    },
    {
      "cell_type": "markdown",
      "source": [
        "Let us check the distribution of the labels inside our dataframe"
      ],
      "metadata": {
        "id": "TJV7uiE-mT74"
      }
    },
    {
      "cell_type": "code",
      "source": [
        "cases_df = df.Class.value_counts()"
      ],
      "metadata": {
        "id": "O_mF_ZnFgHmU"
      },
      "execution_count": null,
      "outputs": []
    },
    {
      "cell_type": "code",
      "source": [
        "cases_df"
      ],
      "metadata": {
        "id": "vO4I-gPqgVq4"
      },
      "execution_count": null,
      "outputs": []
    },
    {
      "cell_type": "markdown",
      "source": [
        "We have 295 positive cases out of 170884 - we are in a situation of imbalanced data, with just 0.172% of the fraudsters available in our dataset"
      ],
      "metadata": {
        "id": "PzkZoBRTmauc"
      }
    },
    {
      "cell_type": "code",
      "source": [
        "ratio_cases = cases_df/len(df.index)\n",
        "print(f'Ratio of fraudulent cases: {ratio_cases[1]}\\nRatio of non-fraudulent cases: {ratio_cases[0]}')"
      ],
      "metadata": {
        "id": "WeVtdmlqghw8"
      },
      "execution_count": null,
      "outputs": []
    },
    {
      "cell_type": "markdown",
      "source": [
        "Let us separate the features from the target variable"
      ],
      "metadata": {
        "id": "Hh-oN_8um7lI"
      }
    },
    {
      "cell_type": "code",
      "source": [
        "X = df.drop(['Class'], axis=1)\n",
        "y = df.Class.values"
      ],
      "metadata": {
        "id": "gat66vm4haHf"
      },
      "execution_count": null,
      "outputs": []
    },
    {
      "cell_type": "code",
      "source": [
        "X.head(2)"
      ],
      "metadata": {
        "id": "9QyHwshzhNrw"
      },
      "execution_count": null,
      "outputs": []
    },
    {
      "cell_type": "markdown",
      "source": [
        "Before moving to the fitting phase, we need to perform some preprocessing. \n",
        "In this phase, we need to be sure the datsa are consistent, namely features are expressed somehow in the same scale, and possibly further advanced analysis such as checking the presence of categorical variables, outliers, and missing values.\n",
        "\n",
        "Let us plot the distriburion of each single variable. The snippet is provided down below here. Can you see a potential problem here?"
      ],
      "metadata": {
        "id": "wgl9iaBwm_YA"
      }
    },
    {
      "cell_type": "code",
      "source": [
        "import seaborn as sns\n",
        "import matplotlib.pyplot as plt\n",
        "df_original_melted = pd.melt(X)\n",
        "fig, ax = plt.subplots(figsize=(10,8))\n",
        "ax = sns.boxplot(x='variable', y='value', data=df_original_melted)"
      ],
      "metadata": {
        "id": "R822KQqShBYG"
      },
      "execution_count": null,
      "outputs": []
    },
    {
      "cell_type": "markdown",
      "source": [
        "Data is not in the same scale, so we need to perform some preprocessing. Since two features Time and Amount are not in the same scale as the PC, we apply a Standard Scaler to make the data more consinstent before fitting those data to a model."
      ],
      "metadata": {
        "id": "6hpwY93Ynnzi"
      }
    },
    {
      "cell_type": "code",
      "source": [
        "from sklearn.preprocessing import StandardScaler\n",
        "scaler = StandardScaler()\n",
        "X_scaled_new = scaler.fit_transform(X)\n",
        "df_scaled_new = pd.DataFrame(X_scaled_new, columns=list(X))"
      ],
      "metadata": {
        "id": "nUjP_5N_hHsd"
      },
      "execution_count": null,
      "outputs": []
    },
    {
      "cell_type": "markdown",
      "source": [
        "We can easily check the result"
      ],
      "metadata": {
        "id": "YfMq_sN9n4ah"
      }
    },
    {
      "cell_type": "code",
      "source": [
        "df_scaled_melted = pd.melt(df_scaled_new)\n",
        "fig, ax = plt.subplots(figsize=(10,8))\n",
        "ax = sns.boxplot(x='variable', y='value', data=df_scaled_melted)"
      ],
      "metadata": {
        "id": "1BZU2zaghs6G"
      },
      "execution_count": null,
      "outputs": []
    },
    {
      "cell_type": "markdown",
      "source": [
        "## Fitting a simple classifier with sklearn"
      ],
      "metadata": {
        "id": "W6SHRI35m-Ay"
      }
    },
    {
      "cell_type": "code",
      "source": [
        "from sklearn.model_selection import train_test_split\n",
        "from sklearn.linear_model import LogisticRegression\n",
        "from sklearn.metrics import classification_report, confusion_matrix, ConfusionMatrixDisplay\n",
        "from sklearn.pipeline import Pipeline"
      ],
      "metadata": {
        "id": "y4YfbLaulf1m"
      },
      "execution_count": null,
      "outputs": []
    },
    {
      "cell_type": "markdown",
      "source": [
        "We now split the data into train and test: we need the test to validate our fitted model. Setting stratify as equal to the target varibale ensure the data is splitted homogeneously among the positive class in both train and test - so that the test set is representative of the data used to train the model."
      ],
      "metadata": {
        "id": "Stxyg514n-tH"
      }
    },
    {
      "cell_type": "code",
      "source": [
        "X_train, X_test, y_train, y_test = train_test_split(df_scaled_new, y, test_size=0.2, random_state=0, stratify=y)"
      ],
      "metadata": {
        "id": "GajDFeZIjqYs"
      },
      "execution_count": null,
      "outputs": []
    },
    {
      "cell_type": "markdown",
      "source": [
        "We fit a simple Logistic Regression as first instance. This is a pretty simple model, since it assumes linearity with respect to the fact that the dependent variable is linear in parameters."
      ],
      "metadata": {
        "id": "-AvHF5DjoRYJ"
      }
    },
    {
      "cell_type": "code",
      "source": [
        "model = LogisticRegression(random_state=42)\n",
        "model.fit(X_train, y_train)"
      ],
      "metadata": {
        "id": "38nmL5YklbS_"
      },
      "execution_count": null,
      "outputs": []
    },
    {
      "cell_type": "code",
      "source": [
        "predicted = model.predict(X_test)"
      ],
      "metadata": {
        "id": "Jq4rTJv6ldRL"
      },
      "execution_count": null,
      "outputs": []
    },
    {
      "cell_type": "code",
      "source": [
        "print('Classification report:\\n', classification_report(y_test, predicted))"
      ],
      "metadata": {
        "id": "8TULMQcUlerg"
      },
      "execution_count": null,
      "outputs": []
    },
    {
      "cell_type": "markdown",
      "source": [
        " Let's plot the confusion matrix to check how how model performed."
      ],
      "metadata": {
        "id": "31A29sHXWX_d"
      }
    },
    {
      "cell_type": "code",
      "source": [
        "ConfusionMatrixDisplay.from_estimator(model, X_test, y_test, cmap='summer')\n",
        "plt.show()"
      ],
      "metadata": {
        "id": "OreDXL9yT0Ua"
      },
      "execution_count": null,
      "outputs": []
    },
    {
      "cell_type": "markdown",
      "source": [
        "That's pretty good. We can extract more precise metrics on that. Indeed, we have quite good performances with this model: precision is pretty high, with a reasonable recall."
      ],
      "metadata": {
        "id": "J6xMLB4Loqur"
      }
    },
    {
      "cell_type": "markdown",
      "source": [
        "## Improving model Performances"
      ],
      "metadata": {
        "id": "CxN4WfKvpVLk"
      }
    },
    {
      "cell_type": "markdown",
      "source": [
        "### K-fold Cross Validation\n",
        "\n",
        "In k-fold cross-validation, the data is divided into k folds. The model is trained on k-1 folds with one fold held back for testing. This process gets repeated to ensure each fold of the dataset gets the chance to be the held back set. Once the process is completed, we can summarize the evaluation metric using the mean or/and the standard deviation.\n",
        "\n",
        "![Screen Shot 2022-06-01 at 17.14.26.png](data:image/png;base64,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)"
      ],
      "metadata": {
        "id": "eaDp8Y01A5AG"
      }
    },
    {
      "cell_type": "markdown",
      "source": [
        "### Grid Search Cross Validation"
      ],
      "metadata": {
        "id": "K6vjWUrkA7Jn"
      }
    },
    {
      "cell_type": "code",
      "source": [
        "from sklearn.model_selection import GridSearchCV"
      ],
      "metadata": {
        "id": "i41C4wpYqJbc"
      },
      "execution_count": null,
      "outputs": []
    },
    {
      "cell_type": "markdown",
      "source": [
        "Let's define the parameter sets to test, i.e. to look over to find the best model."
      ],
      "metadata": {
        "id": "OIu7ghqFWrhF"
      }
    },
    {
      "cell_type": "code",
      "source": [
        "param_grid = {\n",
        "    # 'penalty': ['l1', 'l2', 'elasticnet'], \n",
        "    'C': [0.01, 0.1],\n",
        "              }"
      ],
      "metadata": {
        "id": "asA9OAhVoEzA"
      },
      "execution_count": null,
      "outputs": []
    },
    {
      "cell_type": "markdown",
      "source": [
        "Parameter C is called regularization parameter: smaller values of C specify stronger regularization. We are not going to investigate the physical meaning of the parameter itself. Just keep in mind that regularization is a statistical technique used to avoid overfitting in the model."
      ],
      "metadata": {
        "id": "yL7r1h29XE6W"
      }
    },
    {
      "cell_type": "code",
      "source": [
        "model2 = LogisticRegression(random_state=42)\n",
        "CV_model = GridSearchCV(\n",
        "    estimator=model2, \n",
        "    param_grid=param_grid, \n",
        "    cv=5, \n",
        "    n_jobs=-1, \n",
        "    scoring='precision'\n",
        ") # Set the scoring option to 'recall' to opt for recall."
      ],
      "metadata": {
        "id": "_2dR-H90XEZz"
      },
      "execution_count": null,
      "outputs": []
    },
    {
      "cell_type": "code",
      "source": [
        "CV_model.fit(X_train, y_train)\n",
        "CV_model.best_params_"
      ],
      "metadata": {
        "id": "SeeoqEc3pf6p"
      },
      "execution_count": null,
      "outputs": []
    },
    {
      "cell_type": "markdown",
      "source": [
        "We can extract the best model easily, as follows:"
      ],
      "metadata": {
        "id": "BVgTEEcOpA6h"
      }
    },
    {
      "cell_type": "code",
      "source": [
        "best_model = CV_model.best_estimator_"
      ],
      "metadata": {
        "id": "gXr3acvNpARI"
      },
      "execution_count": null,
      "outputs": []
    },
    {
      "cell_type": "code",
      "source": [
        "predicted = best_model.predict(X_test)\n",
        "print('Classifcation report:\\n', classification_report(y_test, predicted))"
      ],
      "metadata": {
        "id": "9q0pmXMMqp_N"
      },
      "execution_count": null,
      "outputs": []
    },
    {
      "cell_type": "code",
      "source": [
        "ConfusionMatrixDisplay.from_estimator(best_model, X_test, y_test, cmap='summer')\n",
        "plt.show()"
      ],
      "metadata": {
        "id": "_6C3xNRup64h"
      },
      "execution_count": null,
      "outputs": []
    },
    {
      "cell_type": "markdown",
      "source": [
        "We can even change the model. In this way, we can fit two (or more) different families of models, and then finding the best combination of parameters that gives us the best model for each family.\n",
        "\n",
        "As an alternative of the Logistic Regression, we can employ the Random Forest: this is quite a benchmark in the literature, and we can employ it as ana alternative to the Logisitc.\n",
        "\n",
        "Also, please note that the Random Forest is an ensamble model - in this case an ensamble of trees - and it is pretty convinent when we cannot claim the dependent variable can be obtained as a linear combiantion of the features."
      ],
      "metadata": {
        "id": "HZR9F0FIqPSZ"
      }
    },
    {
      "cell_type": "code",
      "source": [
        "from sklearn.ensemble import RandomForestClassifier\n",
        "\n",
        "param_grid = { \n",
        "    # 'n_estimators': [500, 1000],\n",
        "    # 'max_features': ['auto', 'sqrt', 'log2'],\n",
        "    'max_depth' : [4,5,8],\n",
        "    # 'criterion' :['gini', 'entropy']\n",
        "}"
      ],
      "metadata": {
        "id": "CuabG67zEmcC"
      },
      "execution_count": null,
      "outputs": []
    },
    {
      "cell_type": "code",
      "source": [
        "# Grid Search\n",
        "cv_rf = GridSearchCV(\n",
        "    estimator = RandomForestClassifier(), \n",
        "    param_grid = param_grid, \n",
        "    #scoring='precision',\n",
        "    n_jobs=-1, \n",
        "    cv=5, \n",
        ")\n",
        "#Fit\n",
        "cv_rf.fit(X_train,y_train)"
      ],
      "metadata": {
        "id": "X4u9LLjCq3_3"
      },
      "execution_count": null,
      "outputs": []
    },
    {
      "cell_type": "code",
      "source": [
        "best_model_rf = cv_rf.best_estimator_"
      ],
      "metadata": {
        "id": "EjJM46Tvqx_S"
      },
      "execution_count": null,
      "outputs": []
    },
    {
      "cell_type": "code",
      "source": [
        "pred_rf=best_model_rf.predict(X_test)"
      ],
      "metadata": {
        "id": "KL1PlPVpJhln"
      },
      "execution_count": null,
      "outputs": []
    },
    {
      "cell_type": "code",
      "source": [
        "print('Classifcation report:\\n', classification_report(y_test, pred_rf))"
      ],
      "metadata": {
        "id": "ZE8UVBzqJlzX"
      },
      "execution_count": null,
      "outputs": []
    },
    {
      "cell_type": "code",
      "source": [
        "ConfusionMatrixDisplay.from_estimator(best_model_rf, X_test, y_test, cmap='summer')\n",
        "plt.show()"
      ],
      "metadata": {
        "id": "Aq0bO0H_q4O-"
      },
      "execution_count": null,
      "outputs": []
    },
    {
      "cell_type": "markdown",
      "source": [
        "### End"
      ],
      "metadata": {
        "id": "sgc68X4NtZJB"
      }
    }
  ]
}